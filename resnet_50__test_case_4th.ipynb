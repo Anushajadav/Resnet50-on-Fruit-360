{
  "nbformat": 4,
  "nbformat_minor": 0,
  "metadata": {
    "colab": {
      "name": "resnet 50_4th_test_case.ipynb",
      "provenance": [],
      "collapsed_sections": []
    },
    "kernelspec": {
      "name": "python3",
      "display_name": "Python 3"
    },
    "language_info": {
      "name": "python"
    },
    "accelerator": "GPU"
  },
  "cells": [
    {
      "cell_type": "code",
      "metadata": {
        "id": "AP5wq5GkTErp",
        "colab": {
          "base_uri": "https://localhost:8080/"
        },
        "outputId": "6b964864-935f-4d19-8f15-8e65d4324e8f"
      },
      "source": [
        " "
      ],
      "execution_count": null,
      "outputs": [
        {
          "output_type": "stream",
          "text": [
            "Mounted at /content/drive\n"
          ],
          "name": "stdout"
        }
      ]
    },
    {
      "cell_type": "code",
      "metadata": {
        "colab": {
          "base_uri": "https://localhost:8080/"
        },
        "id": "NR-7hnH3onot",
        "outputId": "6c653630-fe0d-410b-c940-6122e6438a64"
      },
      "source": [
        "!nvidia-smi"
      ],
      "execution_count": null,
      "outputs": [
        {
          "output_type": "stream",
          "text": [
            "Sun Jun 20 09:29:22 2021       \n",
            "+-----------------------------------------------------------------------------+\n",
            "| NVIDIA-SMI 465.27       Driver Version: 460.32.03    CUDA Version: 11.2     |\n",
            "|-------------------------------+----------------------+----------------------+\n",
            "| GPU  Name        Persistence-M| Bus-Id        Disp.A | Volatile Uncorr. ECC |\n",
            "| Fan  Temp  Perf  Pwr:Usage/Cap|         Memory-Usage | GPU-Util  Compute M. |\n",
            "|                               |                      |               MIG M. |\n",
            "|===============================+======================+======================|\n",
            "|   0  Tesla T4            Off  | 00000000:00:04.0 Off |                    0 |\n",
            "| N/A   40C    P8     9W /  70W |      0MiB / 15109MiB |      0%      Default |\n",
            "|                               |                      |                  N/A |\n",
            "+-------------------------------+----------------------+----------------------+\n",
            "                                                                               \n",
            "+-----------------------------------------------------------------------------+\n",
            "| Processes:                                                                  |\n",
            "|  GPU   GI   CI        PID   Type   Process name                  GPU Memory |\n",
            "|        ID   ID                                                   Usage      |\n",
            "|=============================================================================|\n",
            "|  No running processes found                                                 |\n",
            "+-----------------------------------------------------------------------------+\n"
          ],
          "name": "stdout"
        }
      ]
    },
    {
      "cell_type": "code",
      "metadata": {
        "colab": {
          "base_uri": "https://localhost:8080/"
        },
        "id": "LhzdQTnWWmce",
        "outputId": "88aa5231-94fd-4b9c-95b5-a2cb03bfa740"
      },
      "source": [
        "from google.colab import drive\n",
        "drive.mount('/content/drive')"
      ],
      "execution_count": null,
      "outputs": [
        {
          "output_type": "stream",
          "text": [
            "Mounted at /content/drive\n"
          ],
          "name": "stdout"
        }
      ]
    },
    {
      "cell_type": "code",
      "metadata": {
        "colab": {
          "base_uri": "https://localhost:8080/"
        },
        "id": "nS_KMWpEeO-9",
        "outputId": "80393cc1-1d98-4ea5-fb76-b6fcd27afde9"
      },
      "source": [
        "from zipfile import ZipFile\n",
        "file_name = \"/content/drive/MyDrive/fruits-360.zip\"\n",
        "\n",
        "with ZipFile(file_name, 'r') as zip:\n",
        "  zip.extractall()\n",
        "  print('Done')"
      ],
      "execution_count": null,
      "outputs": [
        {
          "output_type": "stream",
          "text": [
            "Done\n"
          ],
          "name": "stdout"
        }
      ]
    },
    {
      "cell_type": "code",
      "metadata": {
        "id": "-_FhVuJXhaWX"
      },
      "source": [
        "import os\n",
        "from os import listdir, makedirs\n",
        "from os.path import join, exists, expanduser\n",
        "from keras.applications.resnet50 import ResNet50\n",
        "from keras import applications\n",
        "from keras.preprocessing.image import ImageDataGenerator\n",
        "from keras import optimizers\n",
        "from keras.models import Sequential, Model\n",
        "from keras.layers import Dense, GlobalAveragePooling2D\n",
        "from keras.layers import Activation, Dropout, Flatten, Dense\n",
        "from keras import backend as K\n",
        "import tensorflow as tf"
      ],
      "execution_count": null,
      "outputs": []
    },
    {
      "cell_type": "code",
      "metadata": {
        "id": "xl6D3wFtekQ7"
      },
      "source": [
        "# dimensions of our images.\n",
        "img_width, img_height = 224, 224 # we set the img_width and img_height according to the pretrained models we are\n",
        "# going to use. The input size for ResNet-50 is 224 by 224 by 3.\n",
        "\n",
        "train_data_dir = '/content/fruits-360/Training'\n",
        "validation_data_dir = '/content/fruits-360/Test'\n",
        "nb_train_samples = 31688\n",
        "nb_validation_samples = 10657\n",
        "batch_size = 16"
      ],
      "execution_count": null,
      "outputs": []
    },
    {
      "cell_type": "code",
      "metadata": {
        "colab": {
          "base_uri": "https://localhost:8080/"
        },
        "id": "diTLTjSdekT-",
        "outputId": "5b93d3b3-cbbd-4b61-e409-dc50f546d084"
      },
      "source": [
        "train_datagen = ImageDataGenerator(\n",
        "    rescale=1. / 255,\n",
        "    shear_range=0.2,\n",
        "    zoom_range=0.2,\n",
        "    horizontal_flip=True)\n",
        "\n",
        "test_datagen = ImageDataGenerator(rescale=1. / 255)\n",
        "\n",
        "train_generator = train_datagen.flow_from_directory(\n",
        "    train_data_dir,\n",
        "    target_size=(img_height, img_width),\n",
        "    batch_size=batch_size,\n",
        "    class_mode='categorical')\n",
        "\n",
        "validation_generator = test_datagen.flow_from_directory(\n",
        "    validation_data_dir,\n",
        "    target_size=(img_height, img_width),\n",
        "    batch_size=batch_size,\n",
        "    class_mode='categorical')"
      ],
      "execution_count": null,
      "outputs": [
        {
          "output_type": "stream",
          "text": [
            "Found 67692 images belonging to 131 classes.\n",
            "Found 22688 images belonging to 131 classes.\n"
          ],
          "name": "stdout"
        }
      ]
    },
    {
      "cell_type": "code",
      "metadata": {
        "colab": {
          "base_uri": "https://localhost:8080/"
        },
        "id": "7q7M0T7VekXb",
        "outputId": "10a6b0b9-4781-4808-dbd1-b76fe0d7405f"
      },
      "source": [
        "pip install keras-resnet"
      ],
      "execution_count": null,
      "outputs": [
        {
          "output_type": "stream",
          "text": [
            "Collecting keras-resnet\n",
            "  Downloading https://files.pythonhosted.org/packages/76/d4/a35cbd07381139dda4db42c81b88c59254faac026109022727b45b31bcad/keras-resnet-0.2.0.tar.gz\n",
            "Requirement already satisfied: keras>=2.2.4 in /usr/local/lib/python3.7/dist-packages (from keras-resnet) (2.4.3)\n",
            "Requirement already satisfied: pyyaml in /usr/local/lib/python3.7/dist-packages (from keras>=2.2.4->keras-resnet) (3.13)\n",
            "Requirement already satisfied: numpy>=1.9.1 in /usr/local/lib/python3.7/dist-packages (from keras>=2.2.4->keras-resnet) (1.19.5)\n",
            "Requirement already satisfied: h5py in /usr/local/lib/python3.7/dist-packages (from keras>=2.2.4->keras-resnet) (3.1.0)\n",
            "Requirement already satisfied: scipy>=0.14 in /usr/local/lib/python3.7/dist-packages (from keras>=2.2.4->keras-resnet) (1.4.1)\n",
            "Requirement already satisfied: cached-property; python_version < \"3.8\" in /usr/local/lib/python3.7/dist-packages (from h5py->keras>=2.2.4->keras-resnet) (1.5.2)\n",
            "Building wheels for collected packages: keras-resnet\n",
            "  Building wheel for keras-resnet (setup.py) ... \u001b[?25l\u001b[?25hdone\n",
            "  Created wheel for keras-resnet: filename=keras_resnet-0.2.0-py2.py3-none-any.whl size=20487 sha256=bda76caf3d9cd56665115bdd9e6225cbed095c62ea240945c33791ea882166cc\n",
            "  Stored in directory: /root/.cache/pip/wheels/5f/09/a5/497a30fd9ad9964e98a1254d1e164bcd1b8a5eda36197ecb3c\n",
            "Successfully built keras-resnet\n",
            "Installing collected packages: keras-resnet\n",
            "Successfully installed keras-resnet-0.2.0\n"
          ],
          "name": "stdout"
        }
      ]
    },
    {
      "cell_type": "code",
      "metadata": {
        "colab": {
          "base_uri": "https://localhost:8080/"
        },
        "id": "2QCL2s3ZexBY",
        "outputId": "775be4e6-6053-44e1-ed14-57eb03b81255"
      },
      "source": [
        "from keras.applications.resnet import ResNet50  \n",
        "#import inception with pre-trained weights. do not include fully #connected layers\n",
        "basemodel = ResNet50(weights='imagenet', include_top=False)\n",
        "\n",
        "# add a global spatial average pooling layer\n",
        "x = basemodel.output\n",
        "x = GlobalAveragePooling2D()(x)\n",
        "# add a fully-connected layer\n",
        "x = Dense(512, activation='relu')(x)\n",
        "# and a fully connected output/classification layer\n",
        "predictions = Dense(131, activation='softmax')(x)\n",
        "# create the full network so we can train on it\n",
        "model = Model(inputs=basemodel.input, outputs=predictions)"
      ],
      "execution_count": null,
      "outputs": [
        {
          "output_type": "stream",
          "text": [
            "Downloading data from https://storage.googleapis.com/tensorflow/keras-applications/resnet/resnet50_weights_tf_dim_ordering_tf_kernels_notop.h5\n",
            "94773248/94765736 [==============================] - 1s 0us/step\n",
            "94781440/94765736 [==============================] - 1s 0us/step\n"
          ],
          "name": "stdout"
        }
      ]
    },
    {
      "cell_type": "code",
      "metadata": {
        "id": "oJ7pMu8BBWI_"
      },
      "source": [
        "model.compile(loss='categorical_crossentropy', optimizer=optimizers.SGD(learning_rate=0.0001, momentum=0.9),metrics=['accuracy'])"
      ],
      "execution_count": null,
      "outputs": []
    },
    {
      "cell_type": "code",
      "metadata": {
        "colab": {
          "base_uri": "https://localhost:8080/"
        },
        "id": "-hWH4dqewGPp",
        "outputId": "7b295c2d-0b6a-4fce-fcc7-4599cecb035f"
      },
      "source": [
        "history_pretrained = model.fit(train_generator,epochs=10, shuffle = True, verbose = 1, validation_data = validation_generator)"
      ],
      "execution_count": 9,
      "outputs": [
        {
          "output_type": "stream",
          "text": [
            "Epoch 1/10\n",
            "4231/4231 [==============================] - 1047s 234ms/step - loss: 2.4952 - accuracy: 0.5437 - val_loss: 0.1074 - val_accuracy: 0.9769\n",
            "Epoch 2/10\n",
            "4231/4231 [==============================] - 973s 230ms/step - loss: 0.0944 - accuracy: 0.9909 - val_loss: 0.0688 - val_accuracy: 0.9836\n",
            "Epoch 3/10\n",
            "4231/4231 [==============================] - 959s 227ms/step - loss: 0.0388 - accuracy: 0.9968 - val_loss: 0.0476 - val_accuracy: 0.9865\n",
            "Epoch 4/10\n",
            "4231/4231 [==============================] - 957s 226ms/step - loss: 0.0227 - accuracy: 0.9984 - val_loss: 0.0446 - val_accuracy: 0.9888\n",
            "Epoch 5/10\n",
            "4231/4231 [==============================] - 962s 227ms/step - loss: 0.0166 - accuracy: 0.9989 - val_loss: 0.0379 - val_accuracy: 0.9899\n",
            "Epoch 6/10\n",
            "4231/4231 [==============================] - 955s 226ms/step - loss: 0.0129 - accuracy: 0.9991 - val_loss: 0.0370 - val_accuracy: 0.9902\n",
            "Epoch 7/10\n",
            "4231/4231 [==============================] - 950s 224ms/step - loss: 0.0104 - accuracy: 0.9992 - val_loss: 0.0338 - val_accuracy: 0.9905\n",
            "Epoch 8/10\n",
            "4231/4231 [==============================] - 951s 225ms/step - loss: 0.0085 - accuracy: 0.9996 - val_loss: 0.0321 - val_accuracy: 0.9918\n",
            "Epoch 9/10\n",
            "4231/4231 [==============================] - 947s 224ms/step - loss: 0.0072 - accuracy: 0.9995 - val_loss: 0.0341 - val_accuracy: 0.9915\n",
            "Epoch 10/10\n",
            "4231/4231 [==============================] - 945s 223ms/step - loss: 0.0061 - accuracy: 0.9997 - val_loss: 0.0318 - val_accuracy: 0.9915\n"
          ],
          "name": "stdout"
        }
      ]
    },
    {
      "cell_type": "code",
      "metadata": {
        "colab": {
          "base_uri": "https://localhost:8080/"
        },
        "id": "_LMtuSUcBWWc",
        "outputId": "69b4e391-a87c-4dfd-9fa8-f9d1c0be9932"
      },
      "source": [
        "model.evaluate(validation_generator,verbose=2)"
      ],
      "execution_count": 10,
      "outputs": [
        {
          "output_type": "stream",
          "text": [
            "1418/1418 - 77s - loss: 0.0318 - accuracy: 0.9915\n"
          ],
          "name": "stdout"
        },
        {
          "output_type": "execute_result",
          "data": {
            "text/plain": [
              "[0.0318264439702034, 0.9915373921394348]"
            ]
          },
          "metadata": {
            "tags": []
          },
          "execution_count": 10
        }
      ]
    },
    {
      "cell_type": "code",
      "metadata": {
        "id": "uAqKokmktqp6",
        "colab": {
          "base_uri": "https://localhost:8080/"
        },
        "outputId": "32d46a75-45a4-4360-b705-c939eb479953"
      },
      "source": [
        "model.save('/content/fruits-360/resnet.h5')"
      ],
      "execution_count": 11,
      "outputs": [
        {
          "output_type": "stream",
          "text": [
            "/usr/local/lib/python3.7/dist-packages/keras/utils/generic_utils.py:497: CustomMaskWarning: Custom mask layers require a config and must override get_config. When loading, the custom mask layer must be passed to the custom_objects argument.\n",
            "  category=CustomMaskWarning)\n"
          ],
          "name": "stderr"
        }
      ]
    },
    {
      "cell_type": "code",
      "metadata": {
        "id": "1PWRgwRCtq1u",
        "colab": {
          "base_uri": "https://localhost:8080/"
        },
        "outputId": "811797c4-dce2-49d4-d888-3c28f513c6ca"
      },
      "source": [
        "import numpy as np\n",
        "from sklearn.metrics import classification_report, confusion_matrix\n",
        "model=tf.keras.models.load_model('/content/fruits-360/resnet.h5')\n",
        "batch_size = 16\n",
        "num_of_test_samples=22688\n",
        "# Y_pred=model.predict(validation_generator)\n",
        "# y_pred = np.argmax(Y_pred, axis=1)\n",
        "y_pred = model.predict_generator(validation_generator, verbose = True)\n",
        "y_pred = np.argmax(y_pred, axis=1)\n",
        "cm=confusion_matrix(validation_generator.classes, y_pred)"
      ],
      "execution_count": 12,
      "outputs": [
        {
          "output_type": "stream",
          "text": [
            "/usr/local/lib/python3.7/dist-packages/tensorflow/python/keras/engine/training.py:2001: UserWarning: `Model.predict_generator` is deprecated and will be removed in a future version. Please use `Model.predict`, which supports generators.\n",
            "  warnings.warn('`Model.predict_generator` is deprecated and '\n"
          ],
          "name": "stderr"
        },
        {
          "output_type": "stream",
          "text": [
            "1418/1418 [==============================] - 73s 51ms/step\n"
          ],
          "name": "stdout"
        }
      ]
    },
    {
      "cell_type": "code",
      "metadata": {
        "id": "jBjP7EkStu7d",
        "colab": {
          "base_uri": "https://localhost:8080/"
        },
        "outputId": "edae872d-234f-4914-cbf7-bea32d18aa06"
      },
      "source": [
        "from sklearn.metrics import precision_score\n",
        "from sklearn.metrics import classification_report\n",
        "P=precision_score(validation_generator.classes, y_pred, average=\"macro\")  \n",
        "print(P*100)\n",
        "from sklearn.metrics import accuracy_score\n",
        "A=accuracy_score(validation_generator.classes, y_pred)\n",
        "print(A*100)\n",
        "from sklearn.metrics import f1_score\n",
        "f1=f1_score(validation_generator.classes, y_pred,average='micro')\n",
        "print(f1*100)"
      ],
      "execution_count": 13,
      "outputs": [
        {
          "output_type": "stream",
          "text": [
            "0.773524201744082\n",
            "0.8065937940761636\n",
            "0.8065937940761636\n"
          ],
          "name": "stdout"
        }
      ]
    },
    {
      "cell_type": "code",
      "metadata": {
        "id": "ncRG3677tvCW",
        "colab": {
          "base_uri": "https://localhost:8080/"
        },
        "outputId": "96d5d676-8191-4031-b8af-ef1425c83543"
      },
      "source": [
        "print(cm)"
      ],
      "execution_count": 14,
      "outputs": [
        {
          "output_type": "stream",
          "text": [
            "[[3 0 0 ... 1 2 0]\n",
            " [0 2 1 ... 0 0 2]\n",
            " [2 0 0 ... 1 1 1]\n",
            " ...\n",
            " [0 0 0 ... 0 1 0]\n",
            " [3 2 0 ... 5 2 2]\n",
            " [2 0 1 ... 0 0 1]]\n"
          ],
          "name": "stdout"
        }
      ]
    },
    {
      "cell_type": "code",
      "metadata": {
        "colab": {
          "base_uri": "https://localhost:8080/"
        },
        "id": "x2yBU9IPZnHW",
        "outputId": "4f019e70-5d38-46b3-e766-a3089e445209"
      },
      "source": [
        "cm"
      ],
      "execution_count": 17,
      "outputs": [
        {
          "output_type": "execute_result",
          "data": {
            "text/plain": [
              "array([[3, 0, 0, ..., 1, 2, 0],\n",
              "       [0, 2, 1, ..., 0, 0, 2],\n",
              "       [2, 0, 0, ..., 1, 1, 1],\n",
              "       ...,\n",
              "       [0, 0, 0, ..., 0, 1, 0],\n",
              "       [3, 2, 0, ..., 5, 2, 2],\n",
              "       [2, 0, 1, ..., 0, 0, 1]])"
            ]
          },
          "metadata": {
            "tags": []
          },
          "execution_count": 17
        }
      ]
    },
    {
      "cell_type": "code",
      "metadata": {
        "id": "uD50AHJXfJeD",
        "colab": {
          "base_uri": "https://localhost:8080/",
          "height": 573
        },
        "outputId": "a1c4ea64-8fab-4f7e-9e14-c012cdf63df8"
      },
      "source": [
        "import matplotlib.pyplot as plt\n",
        "plt.plot(history_pretrained.history['loss'])\n",
        "plt.plot(history_pretrained.history['val_loss']) \n",
        "plt.title('model loss')\n",
        "plt.ylabel('loss')\n",
        "plt.xlabel('epoch')\n",
        "plt.legend(['train', 'validation'], loc='upper left')\n",
        "plt.show()\n",
        "\n",
        "plt.plot(history_pretrained.history['accuracy'])\n",
        "plt.plot(history_pretrained.history['val_accuracy'])\n",
        "plt.title('model accuracy')\n",
        "plt.ylabel('accuracy')\n",
        "plt.xlabel('epoch')\n",
        "plt.legend(['train', 'validation'], loc='upper right')\n",
        "plt.show()"
      ],
      "execution_count": 15,
      "outputs": [
        {
          "output_type": "display_data",
          "data": {
            "image/png": "[encoded data removed]",
            "text/plain": [
              "<Figure size 432x288 with 1 Axes>"
            ]
          },
          "metadata": {
            "tags": [],
            "needs_background": "light"
          }
        },
        {
          "output_type": "display_data",
          "data": {
            "image/png": "[encoded data removed]",
            "text/plain": [
              "<Figure size 432x288 with 1 Axes>"
            ]
          },
          "metadata": {
            "tags": [],
            "needs_background": "light"
          }
        }
      ]
    },
    {
      "cell_type": "code",
      "metadata": {
        "id": "eLy8YXvOfJiv",
        "colab": {
          "base_uri": "https://localhost:8080/"
        },
        "outputId": "56b32883-bafe-4d41-9369-5c3396cb9af0"
      },
      "source": [
        "from sklearn.metrics import classification_report\n",
        "print(classification_report(validation_generator.classes, y_pred))"
      ],
      "execution_count": 16,
      "outputs": [
        {
          "output_type": "stream",
          "text": [
            "              precision    recall  f1-score   support\n",
            "\n",
            "           0       0.02      0.02      0.02       164\n",
            "           1       0.01      0.01      0.01       148\n",
            "           2       0.00      0.00      0.00       160\n",
            "           3       0.02      0.02      0.02       164\n",
            "           4       0.03      0.03      0.03       161\n",
            "           5       0.00      0.00      0.00       164\n",
            "           6       0.00      0.00      0.00       152\n",
            "           7       0.01      0.01      0.01       164\n",
            "           8       0.01      0.01      0.01       164\n",
            "           9       0.01      0.01      0.01       144\n",
            "          10       0.01      0.01      0.01       166\n",
            "          11       0.01      0.01      0.01       164\n",
            "          12       0.01      0.01      0.01       219\n",
            "          13       0.01      0.01      0.01       164\n",
            "          14       0.01      0.01      0.01       143\n",
            "          15       0.00      0.00      0.00       166\n",
            "          16       0.01      0.01      0.01       166\n",
            "          17       0.00      0.00      0.00       152\n",
            "          18       0.00      0.00      0.00       166\n",
            "          19       0.01      0.01      0.01       150\n",
            "          20       0.01      0.01      0.01       154\n",
            "          21       0.01      0.01      0.01       166\n",
            "          22       0.00      0.00      0.00       164\n",
            "          23       0.00      0.00      0.00       164\n",
            "          24       0.01      0.01      0.01       166\n",
            "          25       0.02      0.02      0.02       234\n",
            "          26       0.00      0.00      0.00       164\n",
            "          27       0.00      0.00      0.00       246\n",
            "          28       0.01      0.01      0.01       246\n",
            "          29       0.00      0.00      0.00       164\n",
            "          30       0.01      0.01      0.01       164\n",
            "          31       0.01      0.01      0.01       164\n",
            "          32       0.01      0.01      0.01       153\n",
            "          33       0.01      0.01      0.01       166\n",
            "          34       0.00      0.00      0.00       166\n",
            "          35       0.00      0.00      0.00       150\n",
            "          36       0.02      0.01      0.01       154\n",
            "          37       0.00      0.00      0.00       130\n",
            "          38       0.01      0.01      0.01       156\n",
            "          39       0.02      0.02      0.02       166\n",
            "          40       0.00      0.00      0.00       156\n",
            "          41       0.01      0.01      0.01       234\n",
            "          42       0.01      0.01      0.01        99\n",
            "          43       0.00      0.00      0.00       166\n",
            "          44       0.01      0.01      0.01       328\n",
            "          45       0.01      0.01      0.01       164\n",
            "          46       0.00      0.00      0.00       166\n",
            "          47       0.01      0.01      0.01       166\n",
            "          48       0.02      0.02      0.02       164\n",
            "          49       0.02      0.02      0.02       158\n",
            "          50       0.00      0.00      0.00       166\n",
            "          51       0.00      0.00      0.00       164\n",
            "          52       0.01      0.01      0.01       166\n",
            "          53       0.01      0.01      0.01       157\n",
            "          54       0.01      0.01      0.01       166\n",
            "          55       0.02      0.02      0.02       166\n",
            "          56       0.01      0.01      0.01       156\n",
            "          57       0.03      0.03      0.03       157\n",
            "          58       0.01      0.01      0.01       166\n",
            "          59       0.01      0.01      0.01       164\n",
            "          60       0.01      0.01      0.01       166\n",
            "          61       0.00      0.00      0.00       166\n",
            "          62       0.01      0.01      0.01       166\n",
            "          63       0.00      0.00      0.00       166\n",
            "          64       0.00      0.00      0.00       166\n",
            "          65       0.00      0.00      0.00       142\n",
            "          66       0.01      0.01      0.01       102\n",
            "          67       0.00      0.00      0.00       166\n",
            "          68       0.02      0.02      0.02       246\n",
            "          69       0.01      0.01      0.01       164\n",
            "          70       0.01      0.01      0.01       164\n",
            "          71       0.00      0.00      0.00       160\n",
            "          72       0.00      0.00      0.00       218\n",
            "          73       0.01      0.01      0.01       178\n",
            "          74       0.00      0.00      0.00       150\n",
            "          75       0.00      0.00      0.00       155\n",
            "          76       0.01      0.01      0.01       146\n",
            "          77       0.01      0.01      0.01       160\n",
            "          78       0.00      0.00      0.00       164\n",
            "          79       0.01      0.01      0.01       166\n",
            "          80       0.00      0.00      0.00       164\n",
            "          81       0.01      0.01      0.01       246\n",
            "          82       0.01      0.01      0.01       164\n",
            "          83       0.00      0.00      0.00       164\n",
            "          84       0.01      0.01      0.01       232\n",
            "          85       0.01      0.01      0.01       166\n",
            "          86       0.02      0.02      0.02       234\n",
            "          87       0.00      0.00      0.00       102\n",
            "          88       0.01      0.01      0.01       166\n",
            "          89       0.02      0.02      0.02       222\n",
            "          90       0.02      0.02      0.02       237\n",
            "          91       0.01      0.01      0.01       166\n",
            "          92       0.00      0.00      0.00       166\n",
            "          93       0.01      0.01      0.01       148\n",
            "          94       0.00      0.00      0.00       234\n",
            "          95       0.02      0.02      0.02       222\n",
            "          96       0.01      0.01      0.01       222\n",
            "          97       0.01      0.01      0.01       164\n",
            "          98       0.01      0.02      0.02       164\n",
            "          99       0.01      0.01      0.01       166\n",
            "         100       0.01      0.01      0.01       163\n",
            "         101       0.01      0.01      0.01       166\n",
            "         102       0.01      0.01      0.01       151\n",
            "         103       0.00      0.00      0.00       142\n",
            "         104       0.00      0.00      0.00       304\n",
            "         105       0.01      0.01      0.01       164\n",
            "         106       0.01      0.01      0.01       153\n",
            "         107       0.00      0.00      0.00       150\n",
            "         108       0.01      0.01      0.01       151\n",
            "         109       0.01      0.01      0.01       150\n",
            "         110       0.02      0.02      0.02       150\n",
            "         111       0.02      0.02      0.02       166\n",
            "         112       0.02      0.02      0.02       164\n",
            "         113       0.01      0.01      0.01       166\n",
            "         114       0.01      0.01      0.01       164\n",
            "         115       0.01      0.01      0.01       162\n",
            "         116       0.01      0.01      0.01       164\n",
            "         117       0.01      0.01      0.01       246\n",
            "         118       0.01      0.01      0.01       166\n",
            "         119       0.00      0.00      0.00       166\n",
            "         120       0.01      0.01      0.01       246\n",
            "         121       0.02      0.02      0.02       225\n",
            "         122       0.00      0.00      0.00       246\n",
            "         123       0.01      0.01      0.01       160\n",
            "         124       0.01      0.01      0.01       164\n",
            "         125       0.00      0.00      0.00       228\n",
            "         126       0.00      0.00      0.00       127\n",
            "         127       0.01      0.01      0.01       153\n",
            "         128       0.00      0.00      0.00       158\n",
            "         129       0.01      0.01      0.01       249\n",
            "         130       0.01      0.01      0.01       157\n",
            "\n",
            "    accuracy                           0.01     22688\n",
            "   macro avg       0.01      0.01      0.01     22688\n",
            "weighted avg       0.01      0.01      0.01     22688\n",
            "\n"
          ],
          "name": "stdout"
        }
      ]
    },
    {
      "cell_type": "markdown",
      "metadata": {
        "id": "el1pRYaoLFdi"
      },
      "source": [
        "# New Section"
      ]
    }
  ]
}