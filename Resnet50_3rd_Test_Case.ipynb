{
  "nbformat": 4,
  "nbformat_minor": 0,
  "metadata": {
    "colab": {
      "name": "Resnet50_3rd_Test_Case",
      "provenance": [],
      "collapsed_sections": []
    },
    "kernelspec": {
      "name": "python3",
      "display_name": "Python 3"
    },
    "language_info": {
      "name": "python"
    },
    "accelerator": "GPU"
  },
  "cells": [
    {
      "cell_type": "code",
      "metadata": {
        "colab": {
          "base_uri": "https://localhost:8080/"
        },
        "id": "SPeBUm0qXAdp",
        "outputId": "3b06e2eb-944e-4870-f875-49e4783ff174"
      },
      "source": [
        "from google.colab import drive\n",
        "drive.mount('/content/drive')"
      ],
      "execution_count": null,
      "outputs": [
        {
          "output_type": "stream",
          "text": [
            "Mounted at /content/drive\n"
          ],
          "name": "stdout"
        }
      ]
    },
    {
      "cell_type": "code",
      "metadata": {
        "colab": {
          "base_uri": "https://localhost:8080/"
        },
        "id": "Lhy9d2YuXrau",
        "outputId": "197fe768-2bf6-4937-e7a5-4c2f2e3f8e79"
      },
      "source": [
        "!nvidia-smi"
      ],
      "execution_count": null,
      "outputs": [
        {
          "output_type": "stream",
          "text": [
            "Sun Jun 20 07:43:56 2021       \n",
            "+-----------------------------------------------------------------------------+\n",
            "| NVIDIA-SMI 465.27       Driver Version: 460.32.03    CUDA Version: 11.2     |\n",
            "|-------------------------------+----------------------+----------------------+\n",
            "| GPU  Name        Persistence-M| Bus-Id        Disp.A | Volatile Uncorr. ECC |\n",
            "| Fan  Temp  Perf  Pwr:Usage/Cap|         Memory-Usage | GPU-Util  Compute M. |\n",
            "|                               |                      |               MIG M. |\n",
            "|===============================+======================+======================|\n",
            "|   0  Tesla T4            Off  | 00000000:00:04.0 Off |                    0 |\n",
            "| N/A   34C    P8     9W /  70W |      0MiB / 15109MiB |      0%      Default |\n",
            "|                               |                      |                  N/A |\n",
            "+-------------------------------+----------------------+----------------------+\n",
            "                                                                               \n",
            "+-----------------------------------------------------------------------------+\n",
            "| Processes:                                                                  |\n",
            "|  GPU   GI   CI        PID   Type   Process name                  GPU Memory |\n",
            "|        ID   ID                                                   Usage      |\n",
            "|=============================================================================|\n",
            "|  No running processes found                                                 |\n",
            "+-----------------------------------------------------------------------------+\n"
          ],
          "name": "stdout"
        }
      ]
    },
    {
      "cell_type": "code",
      "metadata": {
        "colab": {
          "base_uri": "https://localhost:8080/"
        },
        "id": "9oTjiv7ZX1BR",
        "outputId": "c26d295c-3056-4107-99d0-c0e9bd82574d"
      },
      "source": [
        "from zipfile import ZipFile\n",
        "file_name = \"/content/drive/MyDrive/fruits-360.zip\"\n",
        "\n",
        "with ZipFile(file_name, 'r') as zip:\n",
        "  zip.extractall()\n",
        "  print('Done')"
      ],
      "execution_count": null,
      "outputs": [
        {
          "output_type": "stream",
          "text": [
            "Done\n"
          ],
          "name": "stdout"
        }
      ]
    },
    {
      "cell_type": "code",
      "metadata": {
        "id": "54y1hmOGYWbq"
      },
      "source": [
        "import os\n",
        "from os import listdir, makedirs\n",
        "from os.path import join, exists, expanduser\n",
        "from keras.applications.resnet50 import ResNet50\n",
        "from keras import applications\n",
        "from keras.preprocessing.image import ImageDataGenerator\n",
        "from keras import optimizers\n",
        "from keras.models import Sequential, Model\n",
        "from keras.layers import Dense, GlobalAveragePooling2D\n",
        "from keras.layers import Activation, Dropout, Flatten, Dense\n",
        "from keras import backend as K\n",
        "import tensorflow as tf"
      ],
      "execution_count": null,
      "outputs": []
    },
    {
      "cell_type": "code",
      "metadata": {
        "id": "IE8hbH7XYYuN"
      },
      "source": [
        "# dimensions of our images.\n",
        "img_width, img_height = 224, 224 # we set the img_width and img_height according to the pretrained models we are\n",
        "# going to use. The input size for ResNet-50 is 224 by 224 by 3.\n",
        "\n",
        "train_data_dir = '/content/fruits-360/Training'\n",
        "validation_data_dir = '/content/fruits-360/Test'\n",
        "nb_train_samples = 31688\n",
        "nb_validation_samples = 10657\n",
        "batch_size = 32"
      ],
      "execution_count": null,
      "outputs": []
    },
    {
      "cell_type": "code",
      "metadata": {
        "colab": {
          "base_uri": "https://localhost:8080/"
        },
        "id": "yNvlicXQaaJ9",
        "outputId": "27cd2bee-8fe8-4608-f1f8-29fe2f1ef83a"
      },
      "source": [
        "train_datagen = ImageDataGenerator(\n",
        "    rescale=1. / 255,\n",
        "    shear_range=0.2,\n",
        "    zoom_range=0.2,\n",
        "    horizontal_flip=True)\n",
        "\n",
        "test_datagen = ImageDataGenerator(rescale=1. / 255)\n",
        "\n",
        "train_generator = train_datagen.flow_from_directory(\n",
        "    train_data_dir,\n",
        "    target_size=(img_height, img_width),\n",
        "    batch_size=batch_size,\n",
        "    class_mode='categorical')\n",
        "\n",
        "validation_generator = test_datagen.flow_from_directory(\n",
        "    validation_data_dir,\n",
        "    target_size=(img_height, img_width),\n",
        "    batch_size=batch_size,\n",
        "    class_mode='categorical')"
      ],
      "execution_count": null,
      "outputs": [
        {
          "output_type": "stream",
          "text": [
            "Found 67692 images belonging to 131 classes.\n",
            "Found 22688 images belonging to 131 classes.\n"
          ],
          "name": "stdout"
        }
      ]
    },
    {
      "cell_type": "code",
      "metadata": {
        "colab": {
          "base_uri": "https://localhost:8080/"
        },
        "id": "IaNnG1uTaxg4",
        "outputId": "d0d60767-8974-47a2-9891-a4ba1d49d633"
      },
      "source": [
        "pip install keras-resnet"
      ],
      "execution_count": null,
      "outputs": [
        {
          "output_type": "stream",
          "text": [
            "Collecting keras-resnet\n",
            "  Downloading https://files.pythonhosted.org/packages/76/d4/a35cbd07381139dda4db42c81b88c59254faac026109022727b45b31bcad/keras-resnet-0.2.0.tar.gz\n",
            "Requirement already satisfied: keras>=2.2.4 in /usr/local/lib/python3.7/dist-packages (from keras-resnet) (2.4.3)\n",
            "Requirement already satisfied: numpy>=1.9.1 in /usr/local/lib/python3.7/dist-packages (from keras>=2.2.4->keras-resnet) (1.19.5)\n",
            "Requirement already satisfied: scipy>=0.14 in /usr/local/lib/python3.7/dist-packages (from keras>=2.2.4->keras-resnet) (1.4.1)\n",
            "Requirement already satisfied: pyyaml in /usr/local/lib/python3.7/dist-packages (from keras>=2.2.4->keras-resnet) (3.13)\n",
            "Requirement already satisfied: h5py in /usr/local/lib/python3.7/dist-packages (from keras>=2.2.4->keras-resnet) (3.1.0)\n",
            "Requirement already satisfied: cached-property; python_version < \"3.8\" in /usr/local/lib/python3.7/dist-packages (from h5py->keras>=2.2.4->keras-resnet) (1.5.2)\n",
            "Building wheels for collected packages: keras-resnet\n",
            "  Building wheel for keras-resnet (setup.py) ... \u001b[?25l\u001b[?25hdone\n",
            "  Created wheel for keras-resnet: filename=keras_resnet-0.2.0-py2.py3-none-any.whl size=20487 sha256=9d1b523125f7eb14dab32e8b79499fb62a8d3d6645fbb0b3d6f72b8ecbe50a96\n",
            "  Stored in directory: /root/.cache/pip/wheels/5f/09/a5/497a30fd9ad9964e98a1254d1e164bcd1b8a5eda36197ecb3c\n",
            "Successfully built keras-resnet\n",
            "Installing collected packages: keras-resnet\n",
            "Successfully installed keras-resnet-0.2.0\n"
          ],
          "name": "stdout"
        }
      ]
    },
    {
      "cell_type": "code",
      "metadata": {
        "id": "G-ShWmpxaxsa"
      },
      "source": [
        "from keras.applications.resnet import ResNet50  \n",
        "#import inception with pre-trained weights. do not include fully #connected layers\n",
        "inception_base = ResNet50(weights='imagenet', include_top=False)\n",
        "\n",
        "# add a global spatial average pooling layer\n",
        "x = inception_base.output\n",
        "x = GlobalAveragePooling2D()(x)\n",
        "# add a fully-connected layer\n",
        "x = Dense(1024, activation='relu')(x)\n",
        "x = Dense(1024, activation='relu')(x)\n",
        "x = Dropout(0.4)(x)\n",
        "# and a fully connected output/classification layer\n",
        "predictions = Dense(131, activation='softmax')(x)\n",
        "# create the full network so we can train on it\n",
        "inception_transfer = Model(inputs=inception_base.input, outputs=predictions)\n",
        "for layer in inception_base.layers:\n",
        "    layer.trainable = False "
      ],
      "execution_count": null,
      "outputs": []
    },
    {
      "cell_type": "code",
      "metadata": {
        "id": "pWGL9l3-ax3F"
      },
      "source": [
        "opt=tf.keras.optimizers.RMSprop(\n",
        "    learning_rate=0.0001,\n",
        "    rho=0.9,\n",
        "    momentum=0.9,\n",
        "    epsilon=1e-07,\n",
        "    centered=False,\n",
        "    name=\"RMSprop\" \n",
        ")\n",
        "inception_transfer.compile(loss='categorical_crossentropy', optimizer=opt,metrics=['accuracy'])"
      ],
      "execution_count": null,
      "outputs": []
    },
    {
      "cell_type": "code",
      "metadata": {
        "colab": {
          "base_uri": "https://localhost:8080/"
        },
        "id": "ZaQmKRJvnFGH",
        "outputId": "2ee41e7c-b2a5-475f-822f-1d2f4f5ece73"
      },
      "source": [
        "history_pretrained = inception_transfer.fit(train_generator,epochs=25, shuffle = True, verbose = 1, validation_data = validation_generator)"
      ],
      "execution_count": 18,
      "outputs": [
        {
          "output_type": "stream",
          "text": [
            "Epoch 1/25\n",
            "2116/2116 [==============================] - 747s 349ms/step - loss: 4.6048 - accuracy: 0.0302 - val_loss: 3.6337 - val_accuracy: 0.1078\n",
            "Epoch 2/25\n",
            "2116/2116 [==============================] - 732s 346ms/step - loss: 3.4984 - accuracy: 0.1087 - val_loss: 3.2850 - val_accuracy: 0.1455\n",
            "Epoch 3/25\n",
            "2116/2116 [==============================] - 728s 344ms/step - loss: 3.2497 - accuracy: 0.1377 - val_loss: 3.1966 - val_accuracy: 0.1220\n",
            "Epoch 4/25\n",
            "2116/2116 [==============================] - 741s 350ms/step - loss: 3.1044 - accuracy: 0.1671 - val_loss: 3.1400 - val_accuracy: 0.1698\n",
            "Epoch 5/25\n",
            "2116/2116 [==============================] - 743s 351ms/step - loss: 2.9270 - accuracy: 0.2018 - val_loss: 2.7705 - val_accuracy: 0.2383\n",
            "Epoch 6/25\n",
            "2116/2116 [==============================] - 736s 348ms/step - loss: 2.7980 - accuracy: 0.2232 - val_loss: 2.7427 - val_accuracy: 0.2470\n",
            "Epoch 7/25\n",
            "2116/2116 [==============================] - 731s 345ms/step - loss: 2.7116 - accuracy: 0.2444 - val_loss: 2.5656 - val_accuracy: 0.2915\n",
            "Epoch 8/25\n",
            "2116/2116 [==============================] - 736s 348ms/step - loss: 2.6262 - accuracy: 0.2594 - val_loss: 2.5189 - val_accuracy: 0.2751\n",
            "Epoch 9/25\n",
            "2116/2116 [==============================] - 731s 345ms/step - loss: 2.5789 - accuracy: 0.2679 - val_loss: 2.4965 - val_accuracy: 0.3029\n",
            "Epoch 10/25\n",
            "2116/2116 [==============================] - 753s 356ms/step - loss: 2.5106 - accuracy: 0.2830 - val_loss: 2.3193 - val_accuracy: 0.3421\n",
            "Epoch 11/25\n",
            "2116/2116 [==============================] - 729s 344ms/step - loss: 2.4722 - accuracy: 0.2873 - val_loss: 2.3601 - val_accuracy: 0.3181\n",
            "Epoch 12/25\n",
            "2116/2116 [==============================] - 727s 344ms/step - loss: 2.4365 - accuracy: 0.2984 - val_loss: 2.5897 - val_accuracy: 0.2802\n",
            "Epoch 13/25\n",
            "2116/2116 [==============================] - 727s 344ms/step - loss: 2.3954 - accuracy: 0.3074 - val_loss: 2.3041 - val_accuracy: 0.3321\n",
            "Epoch 14/25\n",
            "2116/2116 [==============================] - 725s 343ms/step - loss: 2.3900 - accuracy: 0.3068 - val_loss: 2.4244 - val_accuracy: 0.3188\n",
            "Epoch 15/25\n",
            "2116/2116 [==============================] - 721s 341ms/step - loss: 2.3407 - accuracy: 0.3179 - val_loss: 2.2025 - val_accuracy: 0.3604\n",
            "Epoch 16/25\n",
            "2116/2116 [==============================] - 732s 346ms/step - loss: 2.3327 - accuracy: 0.3202 - val_loss: 2.6810 - val_accuracy: 0.2645\n",
            "Epoch 17/25\n",
            "2116/2116 [==============================] - 730s 345ms/step - loss: 2.3284 - accuracy: 0.3195 - val_loss: 2.2364 - val_accuracy: 0.3631\n",
            "Epoch 18/25\n",
            "2116/2116 [==============================] - 724s 342ms/step - loss: 2.2932 - accuracy: 0.3282 - val_loss: 2.3115 - val_accuracy: 0.3058\n",
            "Epoch 19/25\n",
            "2116/2116 [==============================] - 726s 343ms/step - loss: 2.2861 - accuracy: 0.3301 - val_loss: 2.2350 - val_accuracy: 0.3539\n",
            "Epoch 20/25\n",
            "2116/2116 [==============================] - 729s 344ms/step - loss: 2.2543 - accuracy: 0.3372 - val_loss: 2.2168 - val_accuracy: 0.3555\n",
            "Epoch 21/25\n",
            "2116/2116 [==============================] - 726s 343ms/step - loss: 2.2318 - accuracy: 0.3434 - val_loss: 2.3054 - val_accuracy: 0.3423\n",
            "Epoch 22/25\n",
            "2116/2116 [==============================] - 728s 344ms/step - loss: 2.2332 - accuracy: 0.3432 - val_loss: 2.2259 - val_accuracy: 0.3453\n",
            "Epoch 23/25\n",
            "2116/2116 [==============================] - 725s 343ms/step - loss: 2.2201 - accuracy: 0.3434 - val_loss: 2.2824 - val_accuracy: 0.3211\n",
            "Epoch 24/25\n",
            "2116/2116 [==============================] - 736s 348ms/step - loss: 2.2121 - accuracy: 0.3496 - val_loss: 2.1248 - val_accuracy: 0.3676\n",
            "Epoch 25/25\n",
            "2116/2116 [==============================] - 735s 347ms/step - loss: 2.2066 - accuracy: 0.3464 - val_loss: 2.2789 - val_accuracy: 0.3070\n"
          ],
          "name": "stdout"
        }
      ]
    },
    {
      "cell_type": "code",
      "metadata": {
        "id": "gOvXQ8-ua7o0",
        "colab": {
          "base_uri": "https://localhost:8080/"
        },
        "outputId": "b15d5c94-dcb6-4e54-ae7b-60200e1fc8c9"
      },
      "source": [
        "inception_transfer.evaluate(validation_generator,verbose=2)"
      ],
      "execution_count": 19,
      "outputs": [
        {
          "output_type": "stream",
          "text": [
            "709/709 - 72s - loss: 2.2789 - accuracy: 0.3070\n"
          ],
          "name": "stdout"
        },
        {
          "output_type": "execute_result",
          "data": {
            "text/plain": [
              "[2.278852701187134, 0.30699047446250916]"
            ]
          },
          "metadata": {
            "tags": []
          },
          "execution_count": 19
        }
      ]
    },
    {
      "cell_type": "code",
      "metadata": {
        "id": "hlA9hWwLa_6t",
        "colab": {
          "base_uri": "https://localhost:8080/"
        },
        "outputId": "31855830-70ac-4ed3-c05b-a271443beb03"
      },
      "source": [
        "inception_transfer.save('/content/fruits-360/resnet.h5')\n"
      ],
      "execution_count": 21,
      "outputs": [
        {
          "output_type": "stream",
          "text": [
            "/usr/local/lib/python3.7/dist-packages/keras/utils/generic_utils.py:497: CustomMaskWarning: Custom mask layers require a config and must override get_config. When loading, the custom mask layer must be passed to the custom_objects argument.\n",
            "  category=CustomMaskWarning)\n"
          ],
          "name": "stderr"
        }
      ]
    },
    {
      "cell_type": "code",
      "metadata": {
        "id": "gm1KXCsabAGH",
        "colab": {
          "base_uri": "https://localhost:8080/"
        },
        "outputId": "e736267a-e486-4b61-d19c-37a602bca111"
      },
      "source": [
        "import numpy as np\n",
        "from sklearn.metrics import classification_report, confusion_matrix\n",
        "model=tf.keras.models.load_model('/content/fruits-360/resnet.h5')\n",
        "batch_size = 16\n",
        "num_of_test_samples=22688\n",
        "# Y_pred=model.predict(validation_generator)\n",
        "# y_pred = np.argmax(Y_pred, axis=1)\n",
        "y_pred = model.predict_generator(validation_generator, verbose = True)\n",
        "y_pred = np.argmax(y_pred, axis=1)\n",
        "cm=confusion_matrix(validation_generator.classes, y_pred)"
      ],
      "execution_count": 23,
      "outputs": [
        {
          "output_type": "stream",
          "text": [
            "/usr/local/lib/python3.7/dist-packages/tensorflow/python/keras/engine/training.py:2001: UserWarning: `Model.predict_generator` is deprecated and will be removed in a future version. Please use `Model.predict`, which supports generators.\n",
            "  warnings.warn('`Model.predict_generator` is deprecated and '\n"
          ],
          "name": "stderr"
        },
        {
          "output_type": "stream",
          "text": [
            "709/709 [==============================] - 69s 97ms/step\n"
          ],
          "name": "stdout"
        }
      ]
    },
    {
      "cell_type": "code",
      "metadata": {
        "id": "8KR7jJDSbARG",
        "colab": {
          "base_uri": "https://localhost:8080/"
        },
        "outputId": "b345fb0a-fc94-4e63-e52a-9ef74f73df98"
      },
      "source": [
        "print(cm)"
      ],
      "execution_count": 25,
      "outputs": [
        {
          "output_type": "stream",
          "text": [
            "[[ 1  0  0 ...  0  9  1]\n",
            " [ 1  0  2 ...  0  7  0]\n",
            " [ 2  0  0 ...  0  5  2]\n",
            " ...\n",
            " [ 3  0  1 ...  0  8  1]\n",
            " [ 0  0  0 ...  0  9  3]\n",
            " [ 1  0  1 ...  0 10  1]]\n"
          ],
          "name": "stdout"
        }
      ]
    },
    {
      "cell_type": "code",
      "metadata": {
        "id": "PMWVNMw4bJq1",
        "colab": {
          "base_uri": "https://localhost:8080/",
          "height": 573
        },
        "outputId": "0dbab186-8c6c-41e0-9839-c6ea36d2d262"
      },
      "source": [
        "import matplotlib.pyplot as plt\n",
        "plt.plot(history_pretrained.history['loss'])\n",
        "plt.plot(history_pretrained.history['val_loss']) \n",
        "plt.title('model loss')\n",
        "plt.ylabel('loss')\n",
        "plt.xlabel('epoch')\n",
        "plt.legend(['train', 'validation'], loc='upper left')\n",
        "plt.show()\n",
        "\n",
        "plt.plot(history_pretrained.history['accuracy'])\n",
        "plt.plot(history_pretrained.history['val_accuracy'])\n",
        "plt.title('model accuracy')\n",
        "plt.ylabel('accuracy')\n",
        "plt.xlabel('epoch')\n",
        "plt.legend(['train', 'validation'], loc='upper right')\n",
        "plt.show()"
      ],
      "execution_count": 27,
      "outputs": [
        {
          "output_type": "display_data",
          "data": {
            "image/png": "[encoded data removed]",
            "text/plain": [
              "<Figure size 432x288 with 1 Axes>"
            ]
          },
          "metadata": {
            "tags": [],
            "needs_background": "light"
          }
        },
        {
          "output_type": "display_data",
          "data": {
            "image/png": "[encoded data removed]",
            "text/plain": [
              "<Figure size 432x288 with 1 Axes>"
            ]
          },
          "metadata": {
            "tags": [],
            "needs_background": "light"
          }
        }
      ]
    },
    {
      "cell_type": "code",
      "metadata": {
        "id": "iQsVM-GIbLgW",
        "colab": {
          "base_uri": "https://localhost:8080/"
        },
        "outputId": "0bbc50cb-87e1-402d-fb44-e6ae61f5f8ad"
      },
      "source": [
        "from sklearn.metrics import classification_report\n",
        "print(classification_report(validation_generator.classes, y_pred))"
      ],
      "execution_count": 29,
      "outputs": [
        {
          "output_type": "stream",
          "text": [
            "              precision    recall  f1-score   support\n",
            "\n",
            "           0       0.00      0.01      0.01       164\n",
            "           1       0.00      0.00      0.00       148\n",
            "           2       0.00      0.00      0.00       160\n",
            "           3       0.01      0.01      0.01       164\n",
            "           4       0.00      0.00      0.00       161\n",
            "           5       0.00      0.00      0.00       164\n",
            "           6       0.00      0.00      0.00       152\n",
            "           7       0.00      0.00      0.00       164\n",
            "           8       0.01      0.01      0.01       164\n",
            "           9       0.00      0.00      0.00       144\n",
            "          10       0.00      0.00      0.00       166\n",
            "          11       0.02      0.01      0.01       164\n",
            "          12       0.01      0.01      0.01       219\n",
            "          13       0.02      0.01      0.01       164\n",
            "          14       0.00      0.00      0.00       143\n",
            "          15       0.00      0.00      0.00       166\n",
            "          16       0.00      0.00      0.00       166\n",
            "          17       0.00      0.00      0.00       152\n",
            "          18       0.00      0.00      0.00       166\n",
            "          19       0.00      0.00      0.00       150\n",
            "          20       0.00      0.00      0.00       154\n",
            "          21       0.00      0.01      0.00       166\n",
            "          22       0.02      0.02      0.02       164\n",
            "          23       0.00      0.00      0.00       164\n",
            "          24       0.00      0.00      0.00       166\n",
            "          25       0.01      0.02      0.01       234\n",
            "          26       0.01      0.02      0.01       164\n",
            "          27       0.01      0.01      0.01       246\n",
            "          28       0.02      0.03      0.03       246\n",
            "          29       0.01      0.01      0.01       164\n",
            "          30       0.00      0.00      0.00       164\n",
            "          31       0.02      0.01      0.01       164\n",
            "          32       0.00      0.00      0.00       153\n",
            "          33       0.01      0.01      0.01       166\n",
            "          34       0.00      0.01      0.01       166\n",
            "          35       0.00      0.00      0.00       150\n",
            "          36       0.00      0.01      0.01       154\n",
            "          37       0.01      0.02      0.01       130\n",
            "          38       0.01      0.01      0.01       156\n",
            "          39       0.01      0.01      0.01       166\n",
            "          40       0.01      0.01      0.01       156\n",
            "          41       0.01      0.03      0.02       234\n",
            "          42       0.00      0.00      0.00        99\n",
            "          43       0.01      0.01      0.01       166\n",
            "          44       0.02      0.02      0.02       328\n",
            "          45       0.01      0.01      0.01       164\n",
            "          46       0.00      0.01      0.01       166\n",
            "          47       0.02      0.01      0.01       166\n",
            "          48       0.02      0.04      0.02       164\n",
            "          49       0.00      0.00      0.00       158\n",
            "          50       0.02      0.01      0.01       166\n",
            "          51       0.02      0.01      0.02       164\n",
            "          52       0.01      0.01      0.01       166\n",
            "          53       0.00      0.00      0.00       157\n",
            "          54       0.02      0.04      0.03       166\n",
            "          55       0.00      0.00      0.00       166\n",
            "          56       0.00      0.00      0.00       156\n",
            "          57       0.01      0.01      0.01       157\n",
            "          58       0.01      0.01      0.01       166\n",
            "          59       0.00      0.01      0.01       164\n",
            "          60       0.02      0.02      0.02       166\n",
            "          61       0.03      0.01      0.02       166\n",
            "          62       0.02      0.02      0.02       166\n",
            "          63       0.00      0.00      0.00       166\n",
            "          64       0.01      0.02      0.01       166\n",
            "          65       0.00      0.00      0.00       142\n",
            "          66       0.02      0.01      0.01       102\n",
            "          67       0.00      0.00      0.00       166\n",
            "          68       0.01      0.01      0.01       246\n",
            "          69       0.00      0.00      0.00       164\n",
            "          70       0.00      0.00      0.00       164\n",
            "          71       0.00      0.00      0.00       160\n",
            "          72       0.01      0.00      0.01       218\n",
            "          73       0.00      0.00      0.00       178\n",
            "          74       0.00      0.00      0.00       150\n",
            "          75       0.00      0.00      0.00       155\n",
            "          76       0.00      0.00      0.00       146\n",
            "          77       0.00      0.00      0.00       160\n",
            "          78       0.00      0.00      0.00       164\n",
            "          79       0.01      0.01      0.01       166\n",
            "          80       0.00      0.00      0.00       164\n",
            "          81       0.00      0.00      0.00       246\n",
            "          82       0.02      0.01      0.01       164\n",
            "          83       0.00      0.00      0.00       164\n",
            "          84       0.01      0.01      0.01       232\n",
            "          85       0.00      0.01      0.00       166\n",
            "          86       0.02      0.01      0.01       234\n",
            "          87       0.01      0.01      0.01       102\n",
            "          88       0.01      0.01      0.01       166\n",
            "          89       0.01      0.01      0.01       222\n",
            "          90       0.01      0.01      0.01       237\n",
            "          91       0.00      0.00      0.00       166\n",
            "          92       0.02      0.04      0.03       166\n",
            "          93       0.01      0.01      0.01       148\n",
            "          94       0.00      0.00      0.00       234\n",
            "          95       0.02      0.09      0.03       222\n",
            "          96       0.01      0.01      0.01       222\n",
            "          97       0.01      0.01      0.01       164\n",
            "          98       0.00      0.00      0.00       164\n",
            "          99       0.03      0.01      0.02       166\n",
            "         100       0.01      0.01      0.01       163\n",
            "         101       0.01      0.01      0.01       166\n",
            "         102       0.00      0.00      0.00       151\n",
            "         103       0.00      0.00      0.00       142\n",
            "         104       0.01      0.02      0.01       304\n",
            "         105       0.00      0.00      0.00       164\n",
            "         106       0.02      0.01      0.01       153\n",
            "         107       0.00      0.00      0.00       150\n",
            "         108       0.00      0.00      0.00       151\n",
            "         109       0.01      0.01      0.01       150\n",
            "         110       0.00      0.00      0.00       150\n",
            "         111       0.01      0.01      0.01       166\n",
            "         112       0.01      0.01      0.01       164\n",
            "         113       0.01      0.01      0.01       166\n",
            "         114       0.00      0.00      0.00       164\n",
            "         115       0.00      0.00      0.00       162\n",
            "         116       0.00      0.01      0.00       164\n",
            "         117       0.01      0.01      0.01       246\n",
            "         118       0.00      0.00      0.00       166\n",
            "         119       0.00      0.00      0.00       166\n",
            "         120       0.01      0.01      0.01       246\n",
            "         121       0.01      0.00      0.01       225\n",
            "         122       0.00      0.00      0.00       246\n",
            "         123       0.00      0.00      0.00       160\n",
            "         124       0.00      0.00      0.00       164\n",
            "         125       0.00      0.00      0.00       228\n",
            "         126       0.00      0.00      0.00       127\n",
            "         127       0.05      0.01      0.02       153\n",
            "         128       0.00      0.00      0.00       158\n",
            "         129       0.01      0.04      0.02       249\n",
            "         130       0.00      0.01      0.01       157\n",
            "\n",
            "    accuracy                           0.01     22688\n",
            "   macro avg       0.01      0.01      0.01     22688\n",
            "weighted avg       0.01      0.01      0.01     22688\n",
            "\n"
          ],
          "name": "stdout"
        },
        {
          "output_type": "stream",
          "text": [
            "/usr/local/lib/python3.7/dist-packages/sklearn/metrics/_classification.py:1272: UndefinedMetricWarning: Precision and F-score are ill-defined and being set to 0.0 in labels with no predicted samples. Use `zero_division` parameter to control this behavior.\n",
            "  _warn_prf(average, modifier, msg_start, len(result))\n"
          ],
          "name": "stderr"
        }
      ]
    }
  ]
}